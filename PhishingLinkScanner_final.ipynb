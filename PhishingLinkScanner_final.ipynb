{
  "nbformat": 4,
  "nbformat_minor": 0,
  "metadata": {
    "colab": {
      "provenance": []
    },
    "kernelspec": {
      "name": "python3",
      "display_name": "Python 3"
    },
    "language_info": {
      "name": "python"
    }
  },
  "cells": [
    {
      "cell_type": "code",
      "source": [
        "import re\n",
        "import requests\n",
        "import whois\n",
        "import tldextract\n",
        "from urllib.parse import urlparse\n",
        "\n",
        "#  Check if the URL contains an IP address\n",
        "def has_ip_address(url):\n",
        "    parsed_url = urlparse(url)\n",
        "    return bool(re.match(r'\\d+\\.\\d+\\.\\d+\\.\\d+', parsed_url.netloc))\n",
        "\n",
        "#  Check if the URL is using a shortening service\n",
        "shorteners = [\"bit.ly\", \"goo.gl\", \"tinyurl.com\", \"t.co\", \"ow.ly\", \"is.gd\", \"buff.ly\"]\n",
        "def is_shortened(url):\n",
        "    return any(service in url for service in shorteners)\n",
        "\n",
        "#  Check for \"@\" symbol (used in phishing to redirect)\n",
        "def has_at_symbol(url):\n",
        "    return \"@\" in url\n",
        "\n",
        "#  Check if domain has a hyphen (often used in phishing)\n",
        "def has_hyphen(url):\n",
        "    domain_info = tldextract.extract(url)\n",
        "    return \"-\" in domain_info.domain\n",
        "\n",
        "#  Check if the site is using HTTPS\n",
        "def is_https(url):\n",
        "    parsed_url = urlparse(url)\n",
        "    return parsed_url.scheme == \"https\"\n",
        "\n",
        "#  Check number of subdomains\n",
        "def subdomain_count(url):\n",
        "    domain_info = tldextract.extract(url)\n",
        "    return len(domain_info.subdomain.split(\".\")) if domain_info.subdomain else 0\n",
        "\n",
        "#  Check WHOIS data (age and expiration of domain)\n",
        "def get_domain_age(url):\n",
        "    try:\n",
        "        domain_info = whois.whois(url)\n",
        "        if isinstance(domain_info.creation_date, list):\n",
        "            creation_date = domain_info.creation_date[0]\n",
        "        else:\n",
        "            creation_date = domain_info.creation_date\n",
        "\n",
        "        if isinstance(domain_info.expiration_date, list):\n",
        "            expiration_date = domain_info.expiration_date[0]\n",
        "        else:\n",
        "            expiration_date = domain_info.expiration_date\n",
        "\n",
        "        if creation_date and expiration_date:\n",
        "            domain_age = (expiration_date - creation_date).days\n",
        "            return domain_age\n",
        "        return 0  # If unable to calculate, assume low trust\n",
        "    except Exception:\n",
        "        return 0  # WHOIS lookup failed\n",
        "\n",
        "# Check number of redirects\n",
        "def check_redirects(url):\n",
        "    try:\n",
        "        response = requests.get(url, timeout=5)\n",
        "        return len(response.history)\n",
        "    except requests.RequestException:\n",
        "        return 0  # If the request fails, assume no redirects\n",
        "\n",
        "# Rule-based phishing detection",
        "def check_url(url):\n",
        "    score = 0\n",
        "    score += 2 if has_ip_address(url) else 0\n",
        "    score += 2 if is_shortened(url) else 0\n",
        "    score += 2 if has_at_symbol(url) else 0\n",
        "    score += 2 if has_hyphen(url) else 0\n",
        "    score += 1 if subdomain_count(url) > 2 else 0\n",
        "    score += 2 if check_redirects(url) > 2 else 0\n",
        "    score -= 2 if is_https(url) else 0  # HTTPS is a good sign\n",
        "    score -= 2 if get_domain_age(url) > 365 else 0  # Domains older than a year are safer\n",
        "\n",
        "    #  Determine result based on score\n",
        "    if score >= 5:\n",
        "        return \"🚨 PHISHING URL (High Risk)\"\n",
        "    elif score >= 3:\n",
        "        return \"⚠️ SUSPICIOUS URL (Moderate Risk)\"\n",
        "    else:\n",
        "        return \"✅ SAFE URL (Low Risk)\"\n",
        "\n",
        "# ✅ User Input for URL Scanning\n",
        "user_url = input(\"🔍 Enter URL to scan: \")\n",
        "print(check_url(user_url))\n"
      ],
      "metadata": {
        "colab": {
          "base_uri": "https://localhost:8080/"
        },
        "id": "xwAdsFxjVOjw",
        "outputId": "24eb65d2-34fb-4827-b999-5fbf6e0031ce"
      },
      "execution_count": 20,
      "outputs": [
        {
          "output_type": "stream",
          "name": "stdout",
          "text": [
            "🔍 Enter URL to scan: https://chatgpt.com/c/67c83df9-47dc-8004-b1f3-e7b7a8eb39ef\n",
            "✅ SAFE URL (Low Risk)\n"
          ]
        }
      ]
    }
  ]
}
